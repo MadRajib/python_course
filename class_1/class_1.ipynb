{
 "cells": [
  {
   "cell_type": "markdown",
   "metadata": {},
   "source": [
    "## Comments"
   ]
  },
  {
   "cell_type": "markdown",
   "metadata": {},
   "source": [
    "- Part of the code that should be skipped by the interpreter<br>\n",
    "gives the program to write meaning full notes <br>\n",
    "\n",
    "- __'#'__ character is used to denote comments"
   ]
  },
  {
   "cell_type": "markdown",
   "metadata": {},
   "source": [
    "example:"
   ]
  },
  {
   "cell_type": "code",
   "execution_count": 10,
   "metadata": {},
   "outputs": [
    {
     "name": "stdout",
     "output_type": "stream",
     "text": [
      "hello world\n"
     ]
    }
   ],
   "source": [
    "    # this is a example\n",
    "    print(\"hello world\")"
   ]
  },
  {
   "cell_type": "markdown",
   "metadata": {},
   "source": [
    "__Note__:<br>\n",
    "> it can appear at the start of a line or following white space or<br>\n",
    "> code but not within a string literal"
   ]
  },
  {
   "cell_type": "code",
   "execution_count": 11,
   "metadata": {},
   "outputs": [
    {
     "name": "stdout",
     "output_type": "stream",
     "text": [
      "hello\n",
      "#hello\n"
     ]
    }
   ],
   "source": [
    "# example:\n",
    "    #text = \"hello\"\n",
    "    text = \"hello\"#\n",
    "    print(text)\n",
    "    text = \"#hello\"\n",
    "    print(text)  \n",
    "    "
   ]
  },
  {
   "cell_type": "markdown",
   "metadata": {},
   "source": [
    "- A hash character within a string literal is just a hash character"
   ]
  },
  {
   "cell_type": "markdown",
   "metadata": {},
   "source": [
    "# Variables"
   ]
  },
  {
   "cell_type": "markdown",
   "metadata": {},
   "source": [
    "Has two parts:\n",
    "    1. name and\n",
    "    2. value"
   ]
  },
  {
   "cell_type": "markdown",
   "metadata": {},
   "source": [
    "- To assign we use '=' character"
   ]
  },
  {
   "cell_type": "markdown",
   "metadata": {},
   "source": [
    "- Name of the variable on the left side of '=' and<br>\n",
    "Value on the right side"
   ]
  },
  {
   "cell_type": "code",
   "execution_count": 21,
   "metadata": {},
   "outputs": [],
   "source": [
    "# eg.\n",
    "    h_bar = 1.05457e-34"
   ]
  },
  {
   "cell_type": "markdown",
   "metadata": {},
   "source": [
    "__Note:__<br> \n",
    "> Variable names cannot start with a digit !<br>\n",
    "> They must start with a letter or underscore!"
   ]
  },
  {
   "cell_type": "code",
   "execution_count": 20,
   "metadata": {},
   "outputs": [
    {
     "ename": "IndentationError",
     "evalue": "unexpected indent (<ipython-input-20-6e9f32474e9a>, line 6)",
     "output_type": "error",
     "traceback": [
      "\u001b[0;36m  File \u001b[0;32m\"<ipython-input-20-6e9f32474e9a>\"\u001b[0;36m, line \u001b[0;32m6\u001b[0m\n\u001b[0;31m    2boys = 42\u001b[0m\n\u001b[0m    ^\u001b[0m\n\u001b[0;31mIndentationError\u001b[0m\u001b[0;31m:\u001b[0m unexpected indent\n"
     ]
    }
   ],
   "source": [
    "# eg.\n",
    "    #Wrong     \n",
    "    2boys = 42 \n",
    "    \n",
    "    #Correct      \n",
    "    two_boys = 42\n",
    "    _two_boys = 45\n",
    "    "
   ]
  },
  {
   "cell_type": "markdown",
   "metadata": {},
   "source": [
    "- After a var has been defined it can be manipulated as whatever we want"
   ]
  },
  {
   "cell_type": "code",
   "execution_count": 24,
   "metadata": {},
   "outputs": [
    {
     "name": "stdout",
     "output_type": "stream",
     "text": [
      "6.6260531326e-34\n"
     ]
    }
   ],
   "source": [
    "# eg.\n",
    "    pi = 3.14159\n",
    "    h = 2* pi * h_bar\n",
    "    print(h)"
   ]
  },
  {
   "cell_type": "markdown",
   "metadata": {},
   "source": [
    "- All variables in python are typed<br>\n",
    "i.e the values have certain well- defined properties that dedicate how<br>\n",
    "they are used<br><br>\n",
    "\n",
    "- Different types have different properties <br>\n",
    "eg.\n",
    "> Intgers(eg. 1,2,0,-1,..), floating point numbers (eg. 1.5,2.0,...) are<br>\n",
    "> used for mathematics"
   ]
  },
  {
   "cell_type": "code",
   "execution_count": 12,
   "metadata": {},
   "outputs": [],
   "source": [
    "# eg.\n",
    "    dims = 3\n",
    "    f_dims = 3.0\n",
    "    n_bar = 1.05457e-34"
   ]
  },
  {
   "cell_type": "markdown",
   "metadata": {},
   "source": [
    "- __Strings__ (str) are helpful for textual manipulation"
   ]
  },
  {
   "cell_type": "code",
   "execution_count": 28,
   "metadata": {},
   "outputs": [],
   "source": [
    "# eg\n",
    "    label = \"energy (in MeV)\""
   ]
  },
  {
   "cell_type": "markdown",
   "metadata": {},
   "source": [
    "- __Integers__ and __Strings__ are sometime called as __PRECISE__ type<br>\n",
    "since they will exactly represent the underlying idea<br>\n",
    "<br>\n",
    "- __Floats__ are often refered as __Imprisise__ type since it doesnt always<br>\n",
    "represent the correct value<br>\n",
    "\n"
   ]
  },
  {
   "cell_type": "code",
   "execution_count": 31,
   "metadata": {},
   "outputs": [
    {
     "data": {
      "text/plain": [
       "float"
      ]
     },
     "execution_count": 31,
     "metadata": {},
     "output_type": "execute_result"
    }
   ],
   "source": [
    "# To check the type of a variable or a literal value use type() function\n",
    "\n",
    "# type() is a built in function\n",
    "# eg\n",
    "    type(h_bar)"
   ]
  },
  {
   "cell_type": "code",
   "execution_count": 32,
   "metadata": {},
   "outputs": [
    {
     "data": {
      "text/plain": [
       "int"
      ]
     },
     "execution_count": 32,
     "metadata": {},
     "output_type": "execute_result"
    }
   ],
   "source": [
    "    type(42)"
   ]
  },
  {
   "cell_type": "markdown",
   "metadata": {},
   "source": [
    "- To covert one type to another (also called as Casting!)\n",
    "- To float use __float(number)__; to int use __int(number)__"
   ]
  },
  {
   "cell_type": "code",
   "execution_count": 13,
   "metadata": {},
   "outputs": [
    {
     "data": {
      "text/plain": [
       "42.0"
      ]
     },
     "execution_count": 13,
     "metadata": {},
     "output_type": "execute_result"
    }
   ],
   "source": [
    "# eg.\n",
    "    float(42)"
   ]
  },
  {
   "cell_type": "code",
   "execution_count": 14,
   "metadata": {},
   "outputs": [
    {
     "data": {
      "text/plain": [
       "28"
      ]
     },
     "execution_count": 14,
     "metadata": {},
     "output_type": "execute_result"
    }
   ],
   "source": [
    "    int(\"28\")"
   ]
  },
  {
   "cell_type": "markdown",
   "metadata": {},
   "source": [
    "- The above example works since the string \"28\" has only digits<br>\n",
    "if it had a value that made no sense as an integer then the<br>\n",
    "conversion would fail"
   ]
  },
  {
   "cell_type": "code",
   "execution_count": 36,
   "metadata": {},
   "outputs": [
    {
     "ename": "ValueError",
     "evalue": "invalid literal for int() with base 10: 'world'",
     "output_type": "error",
     "traceback": [
      "\u001b[0;31m---------------------------------------------------------------------------\u001b[0m",
      "\u001b[0;31mValueError\u001b[0m                                Traceback (most recent call last)",
      "\u001b[0;32mcell_name\u001b[0m in \u001b[0;36masync-def-wrapper\u001b[0;34m()\u001b[0m\n",
      "\u001b[0;31mValueError\u001b[0m: invalid literal for int() with base 10: 'world'"
     ]
    }
   ],
   "source": [
    "# eg. \n",
    "    int(\"world\")"
   ]
  },
  {
   "cell_type": "markdown",
   "metadata": {},
   "source": [
    "- __Float__ are not really real numbers as it also has __NaN__ ('Not a Number' inside it)"
   ]
  },
  {
   "cell_type": "code",
   "execution_count": 1,
   "metadata": {},
   "outputs": [
    {
     "data": {
      "text/plain": [
       "float"
      ]
     },
     "execution_count": 1,
     "metadata": {},
     "output_type": "execute_result"
    }
   ],
   "source": [
    "# eg.\n",
    "    type(float('NaN'))"
   ]
  },
  {
   "cell_type": "markdown",
   "metadata": {},
   "source": [
    "- i.e nan is a special value of float"
   ]
  },
  {
   "cell_type": "markdown",
   "metadata": {},
   "source": [
    "- __Python__ is __Dynamically__ typed, that means:<br>\n",
    "     1. Types are set on the variable values and not on the variable names\n",
    "     2. Variable types do not need to be known before the variables are used.\n",
    "     3. Variable names can change types when their values are changed."
   ]
  },
  {
   "cell_type": "code",
   "execution_count": 2,
   "metadata": {},
   "outputs": [],
   "source": [
    "# eg. \n",
    "    x = 3\n",
    "    x = 5.5\n",
    "    x = \"hello world\"\n",
    "#are all valid assignments"
   ]
  },
  {
   "cell_type": "markdown",
   "metadata": {},
   "source": [
    "- __Statically__ typed languages, such as C,C++,java have:<br>\n",
    "    1. Types are set on the variable names and not on the variable values\n",
    "    2. Variable types must be specified (declared or inferred) before they are used.\n",
    "    3. Variable types can never change, even if the value changes."
   ]
  },
  {
   "cell_type": "markdown",
   "metadata": {},
   "source": [
    "- If a var is __not defined__ i.e assigning a value, then trying to use<br>\n",
    "it will give an error"
   ]
  },
  {
   "cell_type": "code",
   "execution_count": 3,
   "metadata": {},
   "outputs": [
    {
     "ename": "NameError",
     "evalue": "name 'n' is not defined",
     "output_type": "error",
     "traceback": [
      "\u001b[0;31m---------------------------------------------------------------------------\u001b[0m",
      "\u001b[0;31mNameError\u001b[0m                                 Traceback (most recent call last)",
      "\u001b[0;32mcell_name\u001b[0m in \u001b[0;36masync-def-wrapper\u001b[0;34m()\u001b[0m\n",
      "\u001b[0;31mNameError\u001b[0m: name 'n' is not defined"
     ]
    }
   ],
   "source": [
    "# eg.\n",
    "    n"
   ]
  },
  {
   "cell_type": "markdown",
   "metadata": {},
   "source": [
    "- __Note:__ \n",
    " > In interactive mode, the last printed expression is assgined to the variable _\n",
    " > _ is also used as a throwaway variable, in cases when we dont want the return\n",
    " > value.\n"
   ]
  },
  {
   "cell_type": "code",
   "execution_count": 3,
   "metadata": {},
   "outputs": [
    {
     "name": "stdout",
     "output_type": "stream",
     "text": [
      "Hello\n",
      "Hello\n",
      "4 5 7 7\n"
     ]
    }
   ],
   "source": [
    "# eg.\n",
    "    for _ in range(2):\n",
    "        print(\"Hello\")\n",
    "    \n",
    "    def foo():\n",
    "        return 4,5,6,7\n",
    "    \n",
    "    a,b,_,_ = foo()\n",
    "    print(a,b,_,_)\n",
    "    \n",
    "    "
   ]
  },
  {
   "cell_type": "markdown",
   "metadata": {},
   "source": [
    "# Boolean Values"
   ]
  },
  {
   "cell_type": "markdown",
   "metadata": {},
   "source": [
    "- The values __True__ and __False__ makes up the entirety of the __bool type__<br>\n",
    "<br>\n",
    "<br>\n",
    "- It is used for:<br>\n",
    "     1.To represent truth value of python expression<br>\n",
    "     2.As flags for turing behavior on or off\n",
    "<br>\n",
    "<br>\n",
    "- Often datas can be converted into booleans\n",
    "<br>\n",
    "<br>\n",
    "- if the value is zero or the container is empty,<br>\n",
    "then it is converted to False\n",
    "<br>\n",
    "- else if the values is non zero or non empty in any way,<br>\n",
    "then it is converted to True"
   ]
  },
  {
   "cell_type": "code",
   "execution_count": 29,
   "metadata": {},
   "outputs": [
    {
     "data": {
      "text/plain": [
       "False"
      ]
     },
     "execution_count": 29,
     "metadata": {},
     "output_type": "execute_result"
    }
   ],
   "source": [
    "# eg.\n",
    "    bool(0)"
   ]
  },
  {
   "cell_type": "code",
   "execution_count": 5,
   "metadata": {},
   "outputs": [
    {
     "data": {
      "text/plain": [
       "True"
      ]
     },
     "execution_count": 5,
     "metadata": {},
     "output_type": "execute_result"
    }
   ],
   "source": [
    "    bool(\"hi\")"
   ]
  },
  {
   "cell_type": "markdown",
   "metadata": {},
   "source": [
    "# None"
   ]
  },
  {
   "cell_type": "markdown",
   "metadata": {},
   "source": [
    "- It is a special variable in python that is used to denote that no value <br>\n",
    "was given or that no behavior was defined.\n",
    "<br>\n",
    "<br>\n",
    "- Zero is a valid number, while None is not.\n",
    "<br>\n",
    "- If __None__ happens to make it to a point in a Program that<br>\n",
    "excepts an integer or float, then the program will rightfully<br>\n",
    "break.<br>\n",
    "- But with a __zero__, the program would have continued on.\n",
    "<br>\n",
    "<br>\n",
    "- It is same as __NULL__ in C/C++ and __null__ in js.\n"
   ]
  },
  {
   "cell_type": "markdown",
   "metadata": {},
   "source": [
    "# Numeric Type"
   ]
  },
  {
   "cell_type": "markdown",
   "metadata": {},
   "source": [
    "- int,float,long and complex<br>"
   ]
  },
  {
   "cell_type": "markdown",
   "metadata": {},
   "source": [
    "> 1.Plain integer:- long in C (8 bytes)<br>\n",
    "> 2.long integer:- unlimited precission <br>\n",
    "> 3.floating point no:- double in C (10 bytes)<br>\n",
    "> 4.complex no:- real and imaginary<br>\n",
    "> > It is of the form __com = a+bj__.<br>\n",
    "> > where a is real number and b is the imaginary part<br>\n",
    "<br>\n",
    "> > To excess real part we use __com.real__\n",
    "<br>\n",
    "> > To excess img part we use  __com.imag__"
   ]
  },
  {
   "cell_type": "code",
   "execution_count": 6,
   "metadata": {},
   "outputs": [
    {
     "name": "stdout",
     "output_type": "stream",
     "text": [
      "real: 5\n",
      "img : 6.0\n"
     ]
    }
   ],
   "source": [
    "# eg.\n",
    "    com = 5 + 6j\n",
    "    # excess the real part\n",
    "    print(\"real:\",com.real)\n",
    "    # excess the img part\n",
    "    print(\"img :\",com.imag)"
   ]
  },
  {
   "cell_type": "markdown",
   "metadata": {},
   "source": [
    "# Operators"
   ]
  },
  {
   "cell_type": "markdown",
   "metadata": {},
   "source": [
    "- used to express common ways to manipulate data and variables"
   ]
  },
  {
   "cell_type": "markdown",
   "metadata": {},
   "source": [
    "- There are three classes of Operators:\n",
    "> 1.Unary :- (Operates on 1 data/Variable)<br> \n",
    "> 2.Binary :- (Operates on 2 datas/Variables)<br>\n",
    "> 3.Ternary :- (Operates on 3 datas/Variables)<br>"
   ]
  },
  {
   "cell_type": "markdown",
   "metadata": {},
   "source": [
    "### Unary Operators"
   ]
  },
  {
   "cell_type": "markdown",
   "metadata": {},
   "source": [
    "    Positive              +x          For numeric types, returns x.\n",
    "    \n",
    "    Negative              -x          For numeric types, returns -x.\n",
    "    \n",
    "    Negation           not x          Logical negation; True becomes False and vice versa.\n",
    "    \n",
    "    Bitwise        Invert ~x          Changes all zeros to ones and vice versa in x’s binary representation.\n",
    "    \n",
    "    Deletion           del x          Deletes the variable x.\n",
    "    \n",
    "    Call                 x()          The result of x when used as a function.\n",
    "    \n",
    "    Assertion       assert x          Ensures that bool(x) is True."
   ]
  },
  {
   "cell_type": "markdown",
   "metadata": {},
   "source": [
    "### Binary Operators"
   ]
  },
  {
   "cell_type": "markdown",
   "metadata": {},
   "source": [
    "    Assignment               x = y        Set the name x to the value of y.\n",
    "    \n",
    "    Attribute Access           x.y        Get the value of y which lives on the variable x.\n",
    "    \n",
    "    Attribute Deletion     del x.y        Remove y from x.\n",
    "    \n",
    "    Index                     x[y]        The value of x at the location y.\n",
    "    \n",
    "    Index Deletion        del x[y]        Remove the value of x at the location y.\n",
    "    \n",
    "    Logical And            x and y        True if bool(x) and bool(y) are True, False otherwise.\n",
    "    \n",
    "    Logical Or            x or y x        if bool(x) is True, otherwise the value of y."
   ]
  },
  {
   "cell_type": "markdown",
   "metadata": {},
   "source": [
    "### Arithmetic Binary Operators"
   ]
  },
  {
   "cell_type": "markdown",
   "metadata": {},
   "source": [
    "    Addition              x + y           The sum.\n",
    "    \n",
    "    Subtraction           x - y           The difference.\n",
    "    \n",
    "    Multiplication        x * y           The product.\n",
    "    \n",
    "    Division              x / y           The quotient in Python 2 and true division in Python 3.\n",
    "    \n",
    "    Floor Division       x // y           The quotient.\n",
    "    \n",
    "    Modulo                x % y           The remainder.\n",
    "    \n",
    "    Exponential          x ** y           x to the power of y.\n",
    "    \n",
    "    Bitwise And           x & y           Ones where both x and y are one in the binary representation, zeros\n",
    "                                          otherwise.\n",
    "                                          \n",
    "    Bitwise Or            x | y           Ones where either x or y are one in the binary representation, zeros\n",
    "                                          otherwise.\n",
    "                                          \n",
    "    Bitwise Exclusive Or  x ^ y           Ones where either x or y but not both are one in the binary\n",
    "                                          representation, zeros otherwise.\n",
    "                                          \n",
    "    Left Shift           x << y           Shifts the binary representation of x up by y bits. For integers\n",
    "                                          this has the effect of multiplying x by 2y.\n",
    "                                          \n",
    "    Right Shift          x >> y           Shifts the binary representation of x down by y bits. For integers\n",
    "                                          this has the effect of dividing x by 2y.\n",
    "                                          \n",
    "    In-Place            x op= y           For each of the above operations, op may be replaced to create a \n",
    "                                          version which acts on the variable ‘in place’. This means that\n",
    "                                          the operation will be performed and the result will immediately\n",
    "                                          be assigned to x. For example, x += 1 will add one to x.\n",
    "                                          "
   ]
  },
  {
   "cell_type": "markdown",
   "metadata": {},
   "source": [
    "### Comparison Binary Operators"
   ]
  },
  {
   "cell_type": "markdown",
   "metadata": {},
   "source": [
    "    Equality                x == y       True or False.\n",
    "    \n",
    "    Not Equal               x != y       True or False.\n",
    "    \n",
    "    Less Than                x < y       True or False.\n",
    "    \n",
    "    Less Than or Equal      x <= y       True or False.\n",
    "    \n",
    "    Greater Than             x > y       True or False.\n",
    "    \n",
    "    Greater Than or Equal   x >= y       True or False.\n",
    "    \n",
    "    Containment             x in y       True if x is an element of y.\n",
    "    \n",
    "    Non-Containment     x not in y       False if x is an element of y.\n",
    "    \n",
    "    Identity Test           x is y       True if x and y point to the same underlying value in memory.\n",
    "    \n",
    "    Not Identity Test   x is not y       False if x and y point to the same underlying value in memory"
   ]
  },
  {
   "cell_type": "markdown",
   "metadata": {},
   "source": [
    "### Ternary Operator"
   ]
  },
  {
   "cell_type": "markdown",
   "metadata": {},
   "source": [
    "    Ternary Assignment       x = y = z       Set x and y to the value of z.\n",
    "    \n",
    "    Attribute Assignment       x.y = z       Set x.y to be the value of z.\n",
    "    \n",
    "    Index Assignment          x[y] = z       Set the location y of x to be the value of z.\n",
    "    \n",
    "    Ternary Compare          x < y < z       True or False, equivalent to (x < y) and (y < z). The < here may\n",
    "                                             be replaced by >, <=, or >= in any permutation.\n",
    "    \n",
    "    Ternary Or           x if y else z       x if bool(y) is True and z otherwise. It’s equivalent to the \n",
    "                                             C/C++ syntax y?x:z."
   ]
  },
  {
   "cell_type": "markdown",
   "metadata": {},
   "source": [
    "- Most of the operators can be composed with one another"
   ]
  },
  {
   "cell_type": "code",
   "execution_count": 32,
   "metadata": {},
   "outputs": [
    {
     "data": {
      "text/plain": [
       "1"
      ]
     },
     "execution_count": 32,
     "metadata": {},
     "output_type": "execute_result"
    }
   ],
   "source": [
    "# eg.\n",
    "    x = h = y = z= f = m =1 \n",
    "    x < 1 or ((h+y -f) << (m//8)) if y and z**2 else 42"
   ]
  },
  {
   "cell_type": "markdown",
   "metadata": {},
   "source": [
    "- __Note:__<br>\n",
    "> Certain class of operators   \"=\"  and  \"del\"composition is not possible, because they<br>\n",
    "> directly modify the variables they are working with, rather than simply using their values."
   ]
  },
  {
   "cell_type": "markdown",
   "metadata": {},
   "source": [
    "- __expression__: expression is a snippet of code that does not require its own<br>\n",
    "line to be executed."
   ]
  },
  {
   "cell_type": "code",
   "execution_count": 33,
   "metadata": {},
   "outputs": [
    {
     "data": {
      "text/plain": [
       "1035"
      ]
     },
     "execution_count": 33,
     "metadata": {},
     "output_type": "execute_result"
    }
   ],
   "source": [
    "# eg.\n",
    "    23 * 45"
   ]
  },
  {
   "cell_type": "markdown",
   "metadata": {},
   "source": [
    "- __statement__: If an operator is not fully composed and requiries its own line to work,<br>\n",
    "then it is a statement"
   ]
  },
  {
   "cell_type": "code",
   "execution_count": 34,
   "metadata": {},
   "outputs": [],
   "source": [
    "# eg.\n",
    "    x = (23 * 45) + 1"
   ]
  },
  {
   "cell_type": "code",
   "execution_count": null,
   "metadata": {},
   "outputs": [],
   "source": []
  }
 ],
 "metadata": {
  "kernelspec": {
   "display_name": "Python 3",
   "language": "python",
   "name": "python3"
  },
  "language_info": {
   "codemirror_mode": {
    "name": "ipython",
    "version": 3
   },
   "file_extension": ".py",
   "mimetype": "text/x-python",
   "name": "python",
   "nbconvert_exporter": "python",
   "pygments_lexer": "ipython3",
   "version": "3.6.8"
  }
 },
 "nbformat": 4,
 "nbformat_minor": 2
}
