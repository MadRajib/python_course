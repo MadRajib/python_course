{
 "cells": [
  {
   "cell_type": "markdown",
   "metadata": {},
   "source": [
    "# Built In Functions:"
   ]
  },
  {
   "cell_type": "markdown",
   "metadata": {},
   "source": [
    "__1. type(Object)__:\n",
    "> With one argument, returns the type of an object."
   ]
  },
  {
   "cell_type": "markdown",
   "metadata": {},
   "source": [
    "__2. id():__\n",
    "> Return the “identity” of an object. This is an integer which is guaranteed to be<br>\n",
    "unique and constant for this object during its lifetime."
   ]
  },
  {
   "cell_type": "markdown",
   "metadata": {},
   "source": [
    "__3 . print(*objects, sep=' ', end='\\n', file=sys.stdout, flush=False):__\n",
    "> Print objects to the text stream file, separated by sep and followed by end.<br>\n",
    "sep, end, file and flush, if present, must be given as keyword arguments.\n",
    "<br>\n",
    "<br>\n",
    "> All non-keyword arguments are converted to strings like str() does and written<br>\n",
    "to the stream, separated by sep and followed by end. Both sep and end must be strings;<br>\n",
    "they can also be None, which means to use the default values. If no objects are given,<br>\n",
    "print() will just write end."
   ]
  },
  {
   "cell_type": "markdown",
   "metadata": {},
   "source": [
    "__4. ord(c)__:\n",
    "> Given a string representing one Unicode character, return an integer representing the Unicode code <br>\n",
    "point of that character."
   ]
  },
  {
   "cell_type": "markdown",
   "metadata": {},
   "source": [
    "__5. help([object])__:\n",
    "> Invoke the built-in help system"
   ]
  },
  {
   "cell_type": "code",
   "execution_count": null,
   "metadata": {},
   "outputs": [],
   "source": []
  }
 ],
 "metadata": {
  "kernelspec": {
   "display_name": "Python 3",
   "language": "python",
   "name": "python3"
  },
  "language_info": {
   "codemirror_mode": {
    "name": "ipython",
    "version": 3
   },
   "file_extension": ".py",
   "mimetype": "text/x-python",
   "name": "python",
   "nbconvert_exporter": "python",
   "pygments_lexer": "ipython3",
   "version": "3.6.8"
  }
 },
 "nbformat": 4,
 "nbformat_minor": 2
}
